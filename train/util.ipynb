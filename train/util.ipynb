{
 "cells": [
  {
   "cell_type": "code",
   "execution_count": 1,
   "metadata": {},
   "outputs": [],
   "source": [
    "import os\n",
    "import matplotlib.pyplot as plt\n",
    "import pandas as pd\n",
    "import numpy as np\n",
    "import nibabel as nib\n",
    "import json\n",
    "\n",
    "import torch\n",
    "import torch.nn\n",
    "from torch.utils.data import Dataset\n",
    "from torch.utils.data import DataLoader\n",
    "from torchvision import transforms\n",
    "import torch.optim as optim\n",
    "from copy import deepcopy\n",
    "\n",
    "# from layer import *\n",
    "from unet import *"
   ]
  },
  {
   "cell_type": "markdown",
   "metadata": {},
   "source": [
    "## normalize"
   ]
  },
  {
   "cell_type": "code",
   "execution_count": 19,
   "metadata": {},
   "outputs": [],
   "source": [
    "def min_max_normalize(image):\n",
    "    min_val = image.min()\n",
    "    max_val = image.max()\n",
    "    normalized_image = (image - min_val) / (max_val - min_val)\n",
    "    return normalized_image"
   ]
  },
  {
   "cell_type": "code",
   "execution_count": 20,
   "metadata": {},
   "outputs": [],
   "source": [
    "def denormalize(image, min_val, max_val):\n",
    "    denormalized_image = image * (max_val - min_val) + min_val\n",
    "    return denormalized_image"
   ]
  },
  {
   "cell_type": "code",
   "execution_count": 21,
   "metadata": {},
   "outputs": [],
   "source": [
    "#예측을 위한 함수 정의\n",
    "def denoise_image(model, image_path, slice_num):\n",
    "    # 이미지 불러오기\n",
    "    nifti = nib.load(image_path)\n",
    "    image = nifti.get_fdata()\n",
    "\n",
    "    image = image[:, :, slice_num]\n",
    "\n",
    "    min_val = image.min()\n",
    "    max_val = image.max()\n",
    "    \n",
    "    # normalize\n",
    "    image = min_max_normalize(image)\n",
    "\n",
    "    image_tensor = transforms.ToTensor()(image).unsqueeze(0).type(torch.float32)\n",
    "\n",
    "    # 모델에 이미지 전달\n",
    "    with torch.no_grad():\n",
    "        model.eval()\n",
    "        denoised_image = model(image_tensor)\n",
    "\n",
    "    # denormalize\n",
    "    denoised_image = denoised_image*max_val\n",
    "    denoised_image = torch.clamp(denoised_image, min=0, max=max_val)\n",
    "\n",
    "    # denormalize(denoised_image, min_val, max_val)\n",
    "    \n",
    "    return denoised_image.squeeze().cpu().numpy()"
   ]
  },
  {
   "cell_type": "markdown",
   "metadata": {},
   "source": [
    "## patch"
   ]
  },
  {
   "cell_type": "code",
   "execution_count": 22,
   "metadata": {},
   "outputs": [],
   "source": [
    "def sampler(folder_path):\n",
    "    \"\"\"image slice\"\"\"\n",
    "    file_list = os.listdir(folder_path)\n",
    "    img_list = []\n",
    "    for i in range(len(file_list)):\n",
    "        file_path = os.path.join(folder_path, file_list[i])\n",
    "        nifti = nib.load(file_path)\n",
    "        image = nifti.get_fdata()\n",
    "        \n",
    "        for j in range(32):\n",
    "            slice = image[:, :, j]\n",
    "            img_list.append(slice)\n",
    "    \n",
    "    return img_list"
   ]
  },
  {
   "cell_type": "code",
   "execution_count": 23,
   "metadata": {},
   "outputs": [],
   "source": [
    "def generate_patch(image, patch_size): # 랜덤하게 patch 생성\n",
    "    \n",
    "    # 이미지 크기\n",
    "    height, width = image.shape[2], image.shape[3]\n",
    "    \n",
    "    # 무작위한 패치의 시작점 결정\n",
    "    top_left_x = np.random.randint(30, width - patch_size - 80 + 1)\n",
    "    top_left_y = np.random.randint(0, height - patch_size + 1)\n",
    "\n",
    "    # 이미지에서 무작위 패치 추출\n",
    "    random_patch = image[:, :, top_left_y:top_left_y + patch_size, top_left_x:top_left_x + patch_size]\n",
    "\n",
    "    return random_patch"
   ]
  },
  {
   "cell_type": "code",
   "execution_count": 24,
   "metadata": {},
   "outputs": [],
   "source": [
    "def generate_subpatch(patch, patch_size): # 랜덤하게 subpatch 생성\n",
    "    \n",
    "    # 이미지 크기\n",
    "    height, width = patch.shape[2], patch.shape[3]\n",
    "    \n",
    "    # 무작위한 패치의 시작점 결정\n",
    "    top_left_x = np.random.randint(0, width - patch_size + 1)\n",
    "    top_left_y = np.random.randint(0, height - patch_size + 1)\n",
    "\n",
    "    # 이미지에서 무작위 패치 추출\n",
    "    random_subpatch = patch[:, :, top_left_y:top_left_y + patch_size, top_left_x:top_left_x + patch_size]\n",
    "\n",
    "    return [random_subpatch, top_left_x, top_left_y] # patch 기준"
   ]
  },
  {
   "cell_type": "code",
   "execution_count": 25,
   "metadata": {},
   "outputs": [],
   "source": [
    "def calculate_coordinate(patch, field_size, num_subpatches): # 패치 내에서 랜덤하게 receptive field 생성\n",
    "    # 64x64 크기의 패치에서 5x5 크기의 receptive field 추출\n",
    "    coordinate = []\n",
    "    replaced_value = []\n",
    "\n",
    "    for i in range(num_subpatches):\n",
    "        subpatch = generate_subpatch(patch, field_size)\n",
    "        random_subpatch, top_row, top_col = subpatch[0], subpatch[1], subpatch[2]\n",
    "\n",
    "        # center pixel 좌표\n",
    "        center_row = top_row + (field_size // 2)\n",
    "        center_col = top_col + (field_size // 2)\n",
    "        center_pixel_value = patch[:, :, center_row, center_col]\n",
    "\n",
    "        replaced_x, replaced_y = 2, 2\n",
    "        # receptive field 내의 랜덤한 pixel 추출해서 대체\n",
    "        while (replaced_x == 2):\n",
    "            replaced_x = np.random.choice(5, replace=False)\n",
    "        while (replaced_y == 2):\n",
    "            replaced_y = np.random.choice(5, replace=False)\n",
    "\n",
    "        replaced_value.append(patch[:, :, top_row + replaced_x, top_col + replaced_y])\n",
    "        coordinate.append([center_row, center_col, center_pixel_value])\n",
    "    \n",
    "    for i in range(len(coordinate)):\n",
    "        row, col, replaced = coordinate[i][0], coordinate[i][1], replaced_value[i]\n",
    "        patch[:, :, row, col] = replaced\n",
    "        \n",
    "    return patch, coordinate"
   ]
  },
  {
   "cell_type": "code",
   "execution_count": 26,
   "metadata": {},
   "outputs": [],
   "source": [
    "def add_maskmap(outputs, coordinate):\n",
    "    batch = outputs.shape[0]\n",
    "\n",
    "    maskmap = torch.zeros([batch, 1, 64, 64], dtype=torch.float32)\n",
    "    targets = torch.zeros([batch, 1, 64, 64], dtype=torch.float32)\n",
    "\n",
    "    for i in range(len(coordinate)):\n",
    "        row, col, value = coordinate[i][0], coordinate[i][1], coordinate[i][2]\n",
    "        maskmap[:, :, row, col] = 1\n",
    "        targets[:, :, row, col] = value\n",
    "    \n",
    "    \n",
    "    maskmap = maskmap.to('cuda')\n",
    "    targets = targets.to('cuda')\n",
    "    \n",
    "    outputs = outputs * maskmap\n",
    "\n",
    "    return outputs, targets"
   ]
  }
 ],
 "metadata": {
  "kernelspec": {
   "display_name": "cuda_test",
   "language": "python",
   "name": "cuda_test"
  },
  "language_info": {
   "codemirror_mode": {
    "name": "ipython",
    "version": 3
   },
   "file_extension": ".py",
   "mimetype": "text/x-python",
   "name": "python",
   "nbconvert_exporter": "python",
   "pygments_lexer": "ipython3",
   "version": "3.8.18"
  }
 },
 "nbformat": 4,
 "nbformat_minor": 2
}
